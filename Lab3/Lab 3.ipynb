{
 "cells": [
  {
   "cell_type": "markdown",
   "metadata": {},
   "source": [
    "# Lab 3: Homographies and Panoramas\n",
    "\n"
   ]
  },
  {
   "cell_type": "code",
   "execution_count": 1,
   "metadata": {},
   "outputs": [
    {
     "name": "stdout",
     "output_type": "stream",
     "text": [
      "Populating the interactive namespace from numpy and matplotlib\n"
     ]
    }
   ],
   "source": [
    "#some magic to show the images inside the notebook\n",
    "%pylab inline\n",
    "%matplotlib inline\n",
    "\n",
    "import matplotlib.pyplot as plt\n",
    "from scipy import ndimage\n",
    "import imageio as imio\n",
    "import numpy as np\n",
    "import subprocess\n",
    "\n",
    "# A hepler function for displaying images within the notebook.\n",
    "# It displays an image, optionally applies zoom the image.\n",
    "def show_image(img, zoom=1.5):\n",
    "    dpi = 77\n",
    "    plt.figure(figsize=(img.shape[0]*zoom/dpi,img.shape[0]*zoom/dpi))\n",
    "    if len(img.shape) == 2:\n",
    "        img = np.repeat(img[:,:,np.newaxis],3,2)        \n",
    "    plt.imshow(img, interpolation='nearest')\n",
    "    \n",
    "\n",
    "# A hepler function for displaying images within the notebook.\n",
    "# It may display multiple images side by side, optionally apply gamma transform, and zoom the image.\n",
    "def show_images(imglist, zoom=1, needs_encoding=False):\n",
    "    if type(imglist) is not list:\n",
    "       imglist = [imglist]\n",
    "    n = len(imglist)\n",
    "    first_img = imglist[0]\n",
    "    dpi = 77 # pyplot default?\n",
    "    plt.figure(figsize=(first_img.shape[0]*zoom*n/dpi,first_img.shape[0]*zoom*n/dpi))\n",
    "    for i in range(0,n):\n",
    "        img = imglist[i]\n",
    "        plt.subplot(1,n,i + 1)\n",
    "        plt.tight_layout()    \n",
    "        plt.axis('off')\n",
    "        if len(img.shape) == 2:\n",
    "           img = np.repeat(img[:,:,np.newaxis],3,2)\n",
    "        plt.imshow(img, interpolation='nearest')    "
   ]
  },
  {
   "cell_type": "markdown",
   "metadata": {},
   "source": [
    "## Task 1: Apply Homography (10 pts)\n",
    "\n",
    "Write a function to apply a homography to an image into another. You will iterate over the output\n",
    "image, and take image2 when possible, and image1 when the coordinates are outside image2.\n",
    "Test your function on the provided bus.jpg and poster.jpg images using the homography: \n",
    "\n",
    "H=[[  8.34566914e-01  -3.12962592e-02  -4.53681006e+02],\n",
    "   [  1.29611862e-01   1.21225212e+00  -5.04967813e+02],\n",
    "   [ -8.20263106e-04   1.45634346e-05   1.00000000e+00]]\n",
    "\n",
    "Remember you are using homogeneous coordinates.\n",
    "\n",
    "For this you can use two methods, a loop iterating over the coordinates. Or use a meshgrid. Meshgrid is a useful tool to do domain transformations. You create two matrices with the values of the coordinates at each coordinate of the image. Then you can do operations on them, and use them as the indexes for sampling. Note that in the case of an homography, you might try to access coordinates outside the sampled image.\n",
    "\n",
    "<img src=\"bus.jpg\"  style=\"width: 350px;display: inline-block;\"/>\n",
    "<img src=\"poster.jpg\"  style=\"width: 200px;display: inline-block;\"/>\n",
    "<img src=\"task1.png\"  style=\"width: 350px;display: inline-block;\"/>\n"
   ]
  },
  {
   "cell_type": "code",
   "execution_count": 2,
   "metadata": {},
   "outputs": [
    {
     "name": "stdout",
     "output_type": "stream",
     "text": [
      "[array([[ 0.,  1.],\n",
      "       [ 0.,  1.]]), array([[ 0.,  0.],\n",
      "       [ 1.,  1.]])]\n",
      "[[ 0.  1.]\n",
      " [ 0.  1.]]\n",
      "[[ 0.  0.]\n",
      " [ 1.  1.]]\n"
     ]
    }
   ],
   "source": [
    "#homography to be applied\n",
    "H = np.array([[ 0.8025,  0.0116,  -78.2148],\n",
    "              [-0.0058,  0.8346, -141.3292],\n",
    "              [-0.0006, -0.0002,    1.    ]])\n",
    "\n",
    "#Examples of mesh grid\n",
    "A = np.array([[0.,1.],[1.,0.]])\n",
    "#start, stop, components (stop & components are the resolution of the image) \n",
    "#or 1 and the resolution of the image if we use noormalized coordinates\n",
    "x = np.linspace(0, 1, 2) \n",
    "y = np.linspace(0, 1, 2)\n",
    "#meshgrid creates a matrix with the given linear spaces which will serve as \n",
    "#image coordinates with the same resolution as the image\n",
    "XY = np.meshgrid(x, y)\n",
    "print (XY)\n",
    "\n",
    "XX, YY = np.meshgrid(x, y)\n",
    "print (XX)\n",
    "print (YY)\n",
    "\n",
    "#you can use this to index arrays (images)\n",
    "A[YY.astype(int),XX.astype(int)]\n",
    "\n",
    "def applyHomography(H,im1,im2):\n",
    "#applies H to the coordinates of im1 to access im2\n",
    "    im = im1 #change if appropriate\n",
    "    return im\n",
    "\n"
   ]
  },
  {
   "cell_type": "markdown",
   "metadata": {},
   "source": [
    "## Task 2: Bilinear Interpolation (10)\n",
    "\n",
    "When sampling, the coordinates will be “between pixels”. Use bilinear interpolation to get a better\n",
    "image. https://en.wikipedia.org/wiki/Bilinear_interpolation. Compare with nearest neighbour\n",
    "sampling.\n",
    "\n",
    "If you have used a loop, this is simple to add. \n",
    "If you used a meshgrid, this would be more tedious, but you can simply use ndimage.map_coordinates. Notice that you have other types of interpolations with higher order polynomia\n"
   ]
  },
  {
   "cell_type": "code",
   "execution_count": null,
   "metadata": {
    "collapsed": true
   },
   "outputs": [],
   "source": []
  },
  {
   "cell_type": "markdown",
   "metadata": {},
   "source": [
    "## Task 3: Compute Homography from Points (30 pts)\n",
    "\n",
    "Taking points correspondences from two images, compute the homography. You can do this with 4\n",
    "points. The best solution is to set the system of equatoins from four correspondences and then solve it using SVD (least squares solution). Check homographies.pdf for more information.\n",
    "\n",
    "Try also with this example\n",
    "\n",
    "im1=imread(’pano/stata-1.png’)\n",
    "im2=imread(’pano/stata-2.png’)\n",
    "pointList1=[np.array([218, 209, 1]), np.array([300,425, 1]), np.array([337, 209, 1]), np.array([336, 396,\n",
    "1])]\n",
    "    pointList2=[np.array([4, 232, 1]), np.array([62, 465, 1]), np.array([125, 247, 1]), np.array([102, 433, 1])]\n",
    "    \n",
    "<img src=\"task3_stata.png\"  style=\"width: 350px;display: inline-block;\"/>\n"
   ]
  },
  {
   "cell_type": "code",
   "execution_count": 93,
   "metadata": {
    "collapsed": true
   },
   "outputs": [],
   "source": [
    "points1 = [np.array([557,357, 1]), np.array([716,340, 1]), np.array([560,437, 1]), np.array([718,401, 1])]\n",
    "points2 = [np.array([0, 0, 1]), np.array([319, 0, 1]), np.array([0, 178, 1]), np.array([319, 178, 1])]\n",
    "\n",
    "true_H = np.array([[ 0.8025,  0.0116,  -78.2148],\n",
    "              [-0.0058,  0.8346, -141.3292],\n",
    "              [-0.0006, -0.0002,    1.    ]])\n",
    "\n",
    "\n",
    "def find_homography(points1, points2):\n",
    "    A = []\n",
    "    #fill A with the equations from points1 and points2\n",
    "    \n",
    "    #solve A using SVD from in numpy.linalg\n",
    "    #in numply SVD the matrix V is already transposed!    \n",
    "    return H\n",
    "\n",
    "\n"
   ]
  },
  {
   "cell_type": "markdown",
   "metadata": {},
   "source": [
    "## Task 4: Bounding Box (25 pts)\n",
    "\n",
    "In the previous examples, you used the boundaries of the first image. For panorama stitching, we want to create a bigger image, as shown in the lecture examples. For this, we need to estimate the size of the output. You will need to compute the inverse of your Homography, and compute the coordinates for the corners. Then use an offset to translate between “outside of the image” coordinates and the new bigger image coordinates.\n",
    "\n",
    "<img src=\"bbox.jpg\"  style=\"width: 400px;display:inline-block;\"/>\n",
    "<img src=\"task4.png\"  style=\"width: 400px;display:inline-block;\"/>\n"
   ]
  },
  {
   "cell_type": "code",
   "execution_count": null,
   "metadata": {
    "collapsed": true
   },
   "outputs": [],
   "source": []
  },
  {
   "cell_type": "markdown",
   "metadata": {},
   "source": [
    "## Task 5: Blending (25)\n",
    "\n",
    "Implement and compare smooth and two bands blending. Compute the weights as the distance to\n",
    "the boundary in the image, the center of the image should have value 1, and 0 at the boundaries.\n",
    "Use this weights to mix both images, keeping track of the weights, so the sum of both images has\n",
    "a value of one.\n",
    "\n",
    "HINT: you can use linspace and meshgrid from task 1 to create hte weights. "
   ]
  },
  {
   "cell_type": "markdown",
   "metadata": {
    "collapsed": true
   },
   "source": [
    "## Extra: Two band blending\n",
    "For the two band blending, compute a gaussian blurred image and divide the original by this,\n",
    "getting an image with the high frequencies only. Blend the blurred version with the same process\n",
    "as before, and blend the high frequency by simply taking the pixel with the biggest weight. Then,\n",
    "multiply both together to get the final image."
   ]
  },
  {
   "cell_type": "markdown",
   "metadata": {},
   "source": [
    "## Extra: Have fun!! \n",
    "\n",
    "There is quite a lot of images, try your code with them! Try on your own!\n",
    "\n",
    "Use the tool Pano-UI to generate pairs of points. You can change the images in the click.html Share the list of points in skos if you have them :)"
   ]
  },
  {
   "cell_type": "code",
   "execution_count": null,
   "metadata": {
    "collapsed": true
   },
   "outputs": [],
   "source": []
  },
  {
   "cell_type": "code",
   "execution_count": null,
   "metadata": {
    "collapsed": true
   },
   "outputs": [],
   "source": []
  }
 ],
 "metadata": {
  "kernelspec": {
   "display_name": "Python 2",
   "language": "python",
   "name": "python2"
  },
  "language_info": {
   "codemirror_mode": {
    "name": "ipython",
    "version": 2
   },
   "file_extension": ".py",
   "mimetype": "text/x-python",
   "name": "python",
   "nbconvert_exporter": "python",
   "pygments_lexer": "ipython2",
   "version": "2.7.13"
  }
 },
 "nbformat": 4,
 "nbformat_minor": 2
}
